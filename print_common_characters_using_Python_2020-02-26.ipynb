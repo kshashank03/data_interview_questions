{
 "metadata": {
  "language_info": {
   "codemirror_mode": {
    "name": "ipython",
    "version": 3
   },
   "file_extension": ".py",
   "mimetype": "text/x-python",
   "name": "python",
   "nbconvert_exporter": "python",
   "pygments_lexer": "ipython3",
   "version": "3.8.5-final"
  },
  "orig_nbformat": 2,
  "kernelspec": {
   "name": "python3",
   "display_name": "Python 3.8.5 64-bit ('base': conda)",
   "metadata": {
    "interpreter": {
     "hash": "569d6b7e9215e11aba41c6454007e5c1b78bad7df09dab765d8cf00362c40f03"
    }
   }
  }
 },
 "nbformat": 4,
 "nbformat_minor": 2,
 "cells": [
  {
   "source": [
    "# Given two strings, write code to print overlapping letters in alphabetical order.\n",
    "\n",
    "## So given the following strings:\n",
    "\n",
    "str1 = 'card'\n",
    "\n",
    "str2 = 'shark'\n",
    "\n",
    "### Your overlapping letters would be 'a' (1x) and 'r' (1x), and they just happen to be in alphabetical order already, so your code would return: 'ar'"
   ],
   "cell_type": "markdown",
   "metadata": {}
  },
  {
   "cell_type": "code",
   "execution_count": 8,
   "metadata": {},
   "outputs": [],
   "source": [
    "# I'm assuming that we're just looking for all of the common letters\n",
    "\n",
    "str1 = \"dfdsfadsfa\"\n",
    "str2 = \"wafdsdfasdf\"\n",
    "\n",
    "def common(str1, str2):\n",
    "    output = \"\"\n",
    "    for i in set(str1):\n",
    "        for x in set(str2):\n",
    "            if i == x:\n",
    "                output += i\n",
    "    if len(output) == 0:\n",
    "        return \"no overlap\"\n",
    "    else:\n",
    "        return output"
   ]
  },
  {
   "cell_type": "code",
   "execution_count": 9,
   "metadata": {},
   "outputs": [
    {
     "output_type": "execute_result",
     "data": {
      "text/plain": [
       "'safd'"
      ]
     },
     "metadata": {},
     "execution_count": 9
    }
   ],
   "source": [
    "common(str1, str2)"
   ]
  }
 ]
}