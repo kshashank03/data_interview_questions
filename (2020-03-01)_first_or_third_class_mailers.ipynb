{
 "metadata": {
  "language_info": {
   "codemirror_mode": {
    "name": "ipython",
    "version": 3
   },
   "file_extension": ".py",
   "mimetype": "text/x-python",
   "name": "python",
   "nbconvert_exporter": "python",
   "pygments_lexer": "ipython3",
   "version": "3.8.2-final"
  },
  "orig_nbformat": 2,
  "kernelspec": {
   "name": "python3",
   "display_name": "Python 3.8.2 64-bit",
   "metadata": {
    "interpreter": {
     "hash": "082e9a3bcad0a290d0001e938aa60b99250c6c2ef33a923c00b70f9826caf4b7"
    }
   }
  }
 },
 "nbformat": 4,
 "nbformat_minor": 2,
 "cells": [
  {
   "source": [
    "## Suppose you're trying to optimize a mailing campaign where physical mail is sent to potential customers. There are two options to send advertising mail: either first class or third class. First-class costs \\$0.50 per parcel with a delivery rate of 99% and third-class costs \\$0.35 per parcel with a delivery rate of 65%. Third-class mail also receives a volume discount, if a batch of parcels is greater than 500, for first 500 are \\$0.35 and anything additional costs \\$0.32 per parcel.\n",
    "\n",
    "Questions:\n",
    "\n",
    "1. Which option is the best for the company?\n",
    "2. Assume our goal is to reach as many people with a cap of $1000, which option would be the best?\n",
    "3. Assume our goal is to reach 100 people, what option is best?"
   ],
   "cell_type": "markdown",
   "metadata": {}
  },
  {
   "cell_type": "code",
   "execution_count": null,
   "metadata": {},
   "outputs": [],
   "source": [
    "# first_class = 0.99 -> $0.5 per letter\n",
    "# third_class = 0.65 -> $0.35 per letter for first 500 $0.32 after"
   ]
  },
  {
   "cell_type": "code",
   "execution_count": 1,
   "metadata": {},
   "outputs": [],
   "source": [
    "import matplotlib as plt"
   ]
  },
  {
   "cell_type": "code",
   "execution_count": null,
   "metadata": {},
   "outputs": [],
   "source": [
    "# first_class = number of First Class letters sent\n",
    "# third_class = number of Third Class letters sent\n",
    "\n",
    "if third_class >= 500:\n",
    "    cost = (first_class * 0.5) + (500 * 0.35) + ((third_class - 500) * 0.32)\n",
    "else: \n",
    "    cost = (first_class * 0.5) + (third_class * 0.32)\n",
    "\n",
    "letters_received = (first_class * 0.99) + (third_class * 0.65)"
   ]
  }
 ]
}